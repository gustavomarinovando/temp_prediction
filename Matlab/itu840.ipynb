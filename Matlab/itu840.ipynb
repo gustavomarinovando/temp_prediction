{
 "cells": [
  {
   "cell_type": "code",
   "execution_count": 5,
   "metadata": {},
   "outputs": [],
   "source": [
    "import numpy as np"
   ]
  },
  {
   "cell_type": "code",
   "execution_count": 3,
   "metadata": {},
   "outputs": [],
   "source": [
    "def itu840(f, T, M):\n",
    "    theta = 300/T\n",
    "    e0 = 77.6 + 103.3 * (theta - 1)\n",
    "    e1 = 0.0671 * e0\n",
    "    e2 = 3.52\n",
    "    fp = 20.2 - 146 * (theta - 1) + 316 * (theta - 1) ** 2\n",
    "    fs = 39.8 * fp\n",
    "    ep = ((e0 - e1)/(1 + (f / fp) ** 2)) + ((e1 - e2)/(1 + (f / fs) ** 2)) + e2\n",
    "    es = (f / fp) * ((e0 - e1)/(1 + (f / fp) ** 2)) + (f / fs) * ((e1 - e2)/(1 + (f / fs) ** 2))\n",
    "    n = (2 + ep) / es\n",
    "    Kl = (0.819 * f) / (es * (1 + n ** 2))\n",
    "    yc = Kl * M\n",
    "    return yc"
   ]
  },
  {
   "cell_type": "code",
   "execution_count": 13,
   "metadata": {},
   "outputs": [
    {
     "data": {
      "text/plain": [
       "1.7378910153795035"
      ]
     },
     "execution_count": 13,
     "metadata": {},
     "output_type": "execute_result"
    }
   ],
   "source": [
    "itu840(80, 280, 0.5)"
   ]
  },
  {
   "cell_type": "code",
   "execution_count": null,
   "metadata": {},
   "outputs": [],
   "source": []
  }
 ],
 "metadata": {
  "kernelspec": {
   "display_name": "Python 3",
   "language": "python",
   "name": "python3"
  },
  "language_info": {
   "codemirror_mode": {
    "name": "ipython",
    "version": 3
   },
   "file_extension": ".py",
   "mimetype": "text/x-python",
   "name": "python",
   "nbconvert_exporter": "python",
   "pygments_lexer": "ipython3",
   "version": "3.6.9"
  }
 },
 "nbformat": 4,
 "nbformat_minor": 4
}
