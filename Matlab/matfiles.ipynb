{
 "cells": [
  {
   "cell_type": "code",
   "execution_count": 1,
   "metadata": {},
   "outputs": [],
   "source": [
    "from scipy.io import loadmat\n",
    "import pandas as pd"
   ]
  },
  {
   "cell_type": "code",
   "execution_count": 2,
   "metadata": {},
   "outputs": [],
   "source": [
    "file = loadmat('wat676.mat')"
   ]
  },
  {
   "cell_type": "code",
   "execution_count": 3,
   "metadata": {},
   "outputs": [
    {
     "data": {
      "text/plain": [
       "dict"
      ]
     },
     "execution_count": 3,
     "metadata": {},
     "output_type": "execute_result"
    }
   ],
   "source": [
    "type(file)"
   ]
  },
  {
   "cell_type": "code",
   "execution_count": 4,
   "metadata": {},
   "outputs": [
    {
     "data": {
      "text/plain": [
       "dict_keys(['__header__', '__version__', '__globals__', 'b1', 'b2', 'b3', 'b4', 'b5', 'b6', 'fw'])"
      ]
     },
     "execution_count": 4,
     "metadata": {},
     "output_type": "execute_result"
    }
   ],
   "source": [
    "file.keys()"
   ]
  },
  {
   "cell_type": "code",
   "execution_count": 28,
   "metadata": {},
   "outputs": [
    {
     "name": "stdout",
     "output_type": "stream",
     "text": [
      "fw = [22.23508, 67.80396, 119.99594, 183.310087, 321.22563, 325.152888, 336.227764, 380.197353, 390.134508, 437.346667, 439.150807, 443.018343, 448.001085, 470.888999, 474.689092, 488.490108, 503.568532, 504.482692, 547.67644, 552.02096, 556.935985, 620.700807, 645.766085, 658.00528, 752.033113, 841.051732, 859.965698, 899.303175, 902.611085, 906.205957, 916.171582, 923.112692, 970.315022, 987.926764, 1780.0]\n",
      "b1 = [0.1079, 0.0011, 0.0007, 2.273, 0.047, 1.514, 0.001, 11.67, 0.0045, 0.0632, 0.9098, 0.192, 10.41, 0.3254, 1.26, 0.2529, 0.0372, 0.0124, 0.9785, 0.184, 497.0, 5.015, 0.0067, 0.2732, 243.4, 0.0134, 0.1325, 0.0547, 0.0386, 0.1836, 8.4, 0.0079, 9.009, 134.6, 17506.0]\n",
      "b2 = [2.144, 8.732, 8.353, 0.668, 6.179, 1.541, 9.825, 1.048, 7.347, 5.048, 3.595, 5.048, 1.405, 3.597, 2.379, 2.852, 6.731, 6.731, 0.158, 0.158, 0.159, 2.391, 8.633, 7.816, 0.396, 8.177, 8.055, 7.914, 8.429, 5.11, 1.441, 10.293, 1.919, 0.257, 0.952]\n",
      "b3 = [26.38, 28.58, 29.48, 29.06, 24.04, 28.23, 26.93, 28.11, 21.52, 18.45, 20.07, 15.55, 25.64, 21.34, 23.2, 25.86, 16.12, 16.12, 26.0, 26.0, 30.86, 24.38, 18.0, 32.1, 30.86, 15.9, 30.6, 29.85, 28.65, 24.08, 26.73, 29.0, 25.5, 29.85, 196.3]\n",
      "b4 = [0.76, 0.69, 0.7, 0.77, 0.67, 0.64, 0.69, 0.54, 0.63, 0.6, 0.63, 0.6, 0.66, 0.66, 0.65, 0.69, 0.61, 0.61, 0.7, 0.7, 0.69, 0.71, 0.6, 0.69, 0.68, 0.33, 0.68, 0.68, 0.7, 0.7, 0.7, 0.7, 0.64, 0.68, 2.0]\n",
      "b5 = [5.087, 4.93, 4.78, 5.022, 4.398, 4.893, 4.74, 5.063, 4.81, 4.23, 4.483, 5.083, 5.028, 4.506, 4.804, 5.201, 3.98, 4.01, 4.5, 4.5, 4.552, 4.856, 4.0, 4.14, 4.352, 5.76, 4.09, 4.53, 5.1, 4.7, 5.15, 5.0, 4.94, 4.55, 24.15]\n",
      "b6 = [1.0, 0.82, 0.79, 0.85, 0.54, 0.74, 0.61, 0.89, 0.55, 0.48, 0.52, 0.5, 0.67, 0.65, 0.64, 0.72, 0.43, 0.45, 1.0, 1.0, 1.0, 0.68, 0.5, 1.0, 0.84, 0.45, 0.84, 0.9, 0.95, 0.53, 0.78, 0.8, 0.67, 0.9, 5.0]\n"
     ]
    }
   ],
   "source": [
    "def extract_data(var, file):\n",
    "    out = [0]*35\n",
    "    for i in range(35):\n",
    "        out[i] = file[var][i][0]\n",
    "    return out\n",
    "'''\n",
    "fw = [0]*35\n",
    "print(file['fw'])\n",
    "for i in range(35):\n",
    "# print(len(file['fw']))\n",
    "    fw[i] = file['fw'][i][0]\n",
    "    \n",
    "print(fw)\n",
    "'''\n",
    "fw = extract_data('fw', file)\n",
    "print('fw =', fw)\n",
    "b1 = extract_data('b1', file)\n",
    "print('b1 =', b1)\n",
    "b2 = extract_data('b2', file)\n",
    "print('b2 =', b2)\n",
    "b3 = extract_data('b3', file)\n",
    "print('b3 =', b3)\n",
    "b4 = extract_data('b4', file)\n",
    "print('b4 =', b4)\n",
    "b5 = extract_data('b5', file)\n",
    "print('b5 =', b5)\n",
    "b6 = extract_data('b6', file)\n",
    "print('b6 =', b6)"
   ]
  },
  {
   "cell_type": "code",
   "execution_count": 8,
   "metadata": {},
   "outputs": [
    {
     "name": "stdout",
     "output_type": "stream",
     "text": [
      "[10, 4, 6]\n",
      "20\n"
     ]
    }
   ],
   "source": [
    "x = [5, 2, 3]\n",
    "b = [0] * len(x)\n",
    "for i in range(len(x)):\n",
    "    b[i] = 2 * x[i]\n",
    "\n",
    "print(b)\n",
    "print(sum(b))"
   ]
  },
  {
   "cell_type": "code",
   "execution_count": 9,
   "metadata": {},
   "outputs": [],
   "source": [
    "def mm(a, b):\n",
    "    c = [0] * len(b)\n",
    "    for i in range(len(b)):        \n",
    "        c[i] = a * b[i]\n",
    "    return c"
   ]
  },
  {
   "cell_type": "code",
   "execution_count": 10,
   "metadata": {},
   "outputs": [
    {
     "name": "stdout",
     "output_type": "stream",
     "text": [
      "[5, 10, 15]\n"
     ]
    }
   ],
   "source": [
    "a = 5\n",
    "b = [1, 2, 3]\n",
    "print(mm(a, b))"
   ]
  }
 ],
 "metadata": {
  "kernelspec": {
   "display_name": "Python 3",
   "language": "python",
   "name": "python3"
  },
  "language_info": {
   "codemirror_mode": {
    "name": "ipython",
    "version": 3
   },
   "file_extension": ".py",
   "mimetype": "text/x-python",
   "name": "python",
   "nbconvert_exporter": "python",
   "pygments_lexer": "ipython3",
   "version": "3.6.9"
  }
 },
 "nbformat": 4,
 "nbformat_minor": 4
}
