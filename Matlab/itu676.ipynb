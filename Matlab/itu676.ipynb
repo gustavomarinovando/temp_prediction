{
 "cells": [
  {
   "cell_type": "code",
   "execution_count": 16,
   "metadata": {},
   "outputs": [],
   "source": [
    "import pandas as pd\n",
    "import numpy as np\n",
    "from scipy.io import loadmat"
   ]
  },
  {
   "cell_type": "code",
   "execution_count": 46,
   "metadata": {},
   "outputs": [],
   "source": [
    "def extract_data(var, file):\n",
    "    size = len(file[var])\n",
    "    out = [0] * size\n",
    "    for i in range(size):\n",
    "        out[i] = file[var][i][0]\n",
    "    return np.array(out)"
   ]
  },
  {
   "cell_type": "code",
   "execution_count": 242,
   "metadata": {},
   "outputs": [],
   "source": [
    "def itu676(f, p, T, rho):\n",
    "    # p: dry air presure (hPa)\n",
    "    # e: water vaour partial pressure (hPa)\n",
    "    # theta (Θ): 300/T\n",
    "    # T: Temperature\n",
    "    # Spectroscopic Parameters\n",
    "    wat_file = loadmat('wat676.mat')\n",
    "    oxy_file = loadmat('oxy676.mat')\n",
    "    fw = extract_data('fw', wat_file)\n",
    "    b1 = extract_data('b1', wat_file)\n",
    "    b2 = extract_data('b2', wat_file)\n",
    "    b3 = extract_data('b3', wat_file)\n",
    "    b4 = extract_data('b4', wat_file)\n",
    "    b5 = extract_data('b5', wat_file)\n",
    "    b6 = extract_data('b6', wat_file)\n",
    "    fo = extract_data('fo', oxy_file)\n",
    "    a1 = extract_data('a1', oxy_file)\n",
    "    a2 = extract_data('a2', oxy_file)\n",
    "    a3 = extract_data('a3', oxy_file)\n",
    "    a4 = extract_data('a4', oxy_file)\n",
    "    a5 = extract_data('a5', oxy_file)\n",
    "    a6 = extract_data('a6', oxy_file)\n",
    "    theta = 300/T\n",
    "    # Equation (4)\n",
    "    e = (rho*T)/216.7\n",
    "    # Equation (3)\n",
    "    So = a1 * (1e-7) * p * (theta**3) * np.exp(a2 * (1 - theta))\n",
    "    Sw = b1 * (1e-1) * e * (theta**3.5) * np.exp(b2 * (1 - theta))\n",
    "    # print(So) Ok\n",
    "    # print(Sw) Ok\n",
    "    # Equation (7)\n",
    "    deltao = (a5 + a6 * theta) * (1e-4) * (p + e) * (theta**0.8)\n",
    "    deltaw = 0\n",
    "    # print(deltao) Ok\n",
    "    # Equation (6a)\n",
    "    deltafo_wd = a3 * (1e-4) * (p * (theta**(0.8 - a4)) + 1.1 * e * theta)\n",
    "    deltafw_wd = b3 * (1e-4) * (p * (theta**b4) + b5 * e * (theta**b6))\n",
    "    # print(deltafo_wd) Ok\n",
    "    # print(deltafw_wd) Ok\n",
    "    # Equation (6b)\n",
    "    deltafo = np.sqrt(deltafo_wd**2 + 2.25e-6)\n",
    "    deltafw = 0.535 * deltafw_wd + np.sqrt((0.217 * deltafw_wd**2) + (2.1316e-12 * (fw**2))/(theta))\n",
    "    # print(deltafo) Ok\n",
    "    # print(deltafw) Ok\n",
    "    # Equation (5)\n",
    "    Fo = ((f)/(fo)) * (((deltafo - deltao * (fo - f))/(deltafo**2 + (fo - f)**2))+((deltafo - deltao * (fo + f))/(deltafo**2 + (fo + f)**2)))\n",
    "    Fw = ((f)/(fw)) * (((deltafw - deltaw * (fw - f))/(deltafw**2 + (fw - f)**2))+((deltafw - deltaw * (fw + f))/(deltafw**2 + (fw + f)**2)))\n",
    "    # print(Fo) Ok\n",
    "    # print(Fw) Ok\n",
    "    # Equation 9\n",
    "    d = (5.6e-4) * (p + e) * (theta**0.8)\n",
    "    N2Df = f * p * theta**2 * (((6.14e-5)/(d * (1+(f/d)**2)))+((1.4e-12 * p * theta**1.5)/(1 + 1.9e-5 * f**1.5)))\n",
    "    # print(d) Ok\n",
    "    # print(N2Df) Ok\n",
    "    N2f = sum(Fo * So) + sum(Fw * Sw) + N2Df\n",
    "    # print(N2f) Ok\n",
    "    y = 0.182 * f * N2f\n",
    "    ywv = 0.182 * f * sum(Fw * Sw)\n",
    "    yox = 0.182 * f * (sum(Fo * So) + N2Df)\n",
    "    print('y =', y)\n",
    "    print('ywv =', ywv)\n",
    "    print('yox =', yox)"
   ]
  },
  {
   "cell_type": "code",
   "execution_count": 243,
   "metadata": {},
   "outputs": [
    {
     "name": "stdout",
     "output_type": "stream",
     "text": [
      "y = 11.439344967078293\n",
      "ywv = 11.439315195727533\n",
      "yox = 2.977135076340312e-05\n"
     ]
    }
   ],
   "source": [
    "itu676(20,5,150,100)"
   ]
  },
  {
   "cell_type": "code",
   "execution_count": 1,
   "metadata": {},
   "outputs": [
    {
     "data": {
      "text/plain": [
       "'Hello'"
      ]
     },
     "metadata": {},
     "output_type": "display_data"
    }
   ],
   "source": [
    "display(\"Hello\")"
   ]
  }
 ],
 "metadata": {
  "kernelspec": {
   "display_name": "Python 3",
   "language": "python",
   "name": "python3"
  },
  "language_info": {
   "codemirror_mode": {
    "name": "ipython",
    "version": 3
   },
   "file_extension": ".py",
   "mimetype": "text/x-python",
   "name": "python",
   "nbconvert_exporter": "python",
   "pygments_lexer": "ipython3",
   "version": "3.6.9"
  }
 },
 "nbformat": 4,
 "nbformat_minor": 4
}
